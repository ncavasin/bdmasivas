{
  "nbformat": 4,
  "nbformat_minor": 0,
  "metadata": {
    "colab": {
      "name": "hepatitis.ipynb",
      "provenance": [],
      "collapsed_sections": []
    },
    "kernelspec": {
      "name": "python3",
      "display_name": "Python 3"
    }
  },
  "cells": [
    {
      "cell_type": "code",
      "metadata": {
        "colab": {
          "base_uri": "https://localhost:8080/"
        },
        "id": "yL-a-ChFcnV_",
        "outputId": "4a7ec19a-d0f8-4b19-bfc1-66a77d67b81a"
      },
      "source": [
        "!wget \"https://archive.ics.uci.edu/ml/machine-learning-databases/00571/hcvdat0.csv\""
      ],
      "execution_count": null,
      "outputs": [
        {
          "output_type": "stream",
          "text": [
            "--2020-11-18 22:37:08--  https://archive.ics.uci.edu/ml/machine-learning-databases/00571/hcvdat0.csv\n",
            "Resolving archive.ics.uci.edu (archive.ics.uci.edu)... 128.195.10.252\n",
            "Connecting to archive.ics.uci.edu (archive.ics.uci.edu)|128.195.10.252|:443... connected.\n",
            "HTTP request sent, awaiting response... 200 OK\n",
            "Length: 46183 (45K) [application/x-httpd-php]\n",
            "Saving to: ‘hcvdat0.csv.1’\n",
            "\n",
            "hcvdat0.csv.1       100%[===================>]  45.10K  --.-KB/s    in 0.1s    \n",
            "\n",
            "2020-11-18 22:37:08 (348 KB/s) - ‘hcvdat0.csv.1’ saved [46183/46183]\n",
            "\n"
          ],
          "name": "stdout"
        }
      ]
    },
    {
      "cell_type": "code",
      "metadata": {
        "colab": {
          "base_uri": "https://localhost:8080/",
          "height": 536
        },
        "id": "ftm9wbrrdAvd",
        "outputId": "3e7252c9-4f4b-4a4f-f253-1c3a01a36f77"
      },
      "source": [
        "# Importo pandas para lectura\n",
        "import pandas as pd\n",
        "\n",
        "# Importo el encoder\n",
        "from sklearn.preprocessing import LabelEncoder\n",
        "\n",
        "# Importo el divisor de training y tests\n",
        "from sklearn.model_selection import train_test_split\n",
        "\n",
        "# Lectua del archivo\n",
        "data = pd.read_csv(\"hcvdat0.csv\")\n",
        "\n",
        "# Eliminacion del indice\n",
        "data.pop('Unnamed: 0')\n",
        "\n",
        "print(f'Cantidad de tuplas: {data.shape[0]}')\n",
        "print(f'Cantidad de columnas: {data.shape[1]}')\n",
        "print(f'Cantidad de NaN\\s: {data.isnull().sum().sum()}')\n",
        "print(f'\\nNaN\\s por columna:\\n{data.isnull().sum()}')\n",
        "\n",
        "data.head()\n"
      ],
      "execution_count": null,
      "outputs": [
        {
          "output_type": "stream",
          "text": [
            "Cantidad de tuplas: 615\n",
            "Cantidad de columnas: 13\n",
            "Cantidad de NaN\\s: 31\n",
            "\n",
            "NaN\\s por columna:\n",
            "Category     0\n",
            "Age          0\n",
            "Sex          0\n",
            "ALB          1\n",
            "ALP         18\n",
            "ALT          1\n",
            "AST          0\n",
            "BIL          0\n",
            "CHE          0\n",
            "CHOL        10\n",
            "CREA         0\n",
            "GGT          0\n",
            "PROT         1\n",
            "dtype: int64\n"
          ],
          "name": "stdout"
        },
        {
          "output_type": "execute_result",
          "data": {
            "text/html": [
              "<div>\n",
              "<style scoped>\n",
              "    .dataframe tbody tr th:only-of-type {\n",
              "        vertical-align: middle;\n",
              "    }\n",
              "\n",
              "    .dataframe tbody tr th {\n",
              "        vertical-align: top;\n",
              "    }\n",
              "\n",
              "    .dataframe thead th {\n",
              "        text-align: right;\n",
              "    }\n",
              "</style>\n",
              "<table border=\"1\" class=\"dataframe\">\n",
              "  <thead>\n",
              "    <tr style=\"text-align: right;\">\n",
              "      <th></th>\n",
              "      <th>Category</th>\n",
              "      <th>Age</th>\n",
              "      <th>Sex</th>\n",
              "      <th>ALB</th>\n",
              "      <th>ALP</th>\n",
              "      <th>ALT</th>\n",
              "      <th>AST</th>\n",
              "      <th>BIL</th>\n",
              "      <th>CHE</th>\n",
              "      <th>CHOL</th>\n",
              "      <th>CREA</th>\n",
              "      <th>GGT</th>\n",
              "      <th>PROT</th>\n",
              "    </tr>\n",
              "  </thead>\n",
              "  <tbody>\n",
              "    <tr>\n",
              "      <th>0</th>\n",
              "      <td>0=Blood Donor</td>\n",
              "      <td>32</td>\n",
              "      <td>m</td>\n",
              "      <td>38.5</td>\n",
              "      <td>52.5</td>\n",
              "      <td>7.7</td>\n",
              "      <td>22.1</td>\n",
              "      <td>7.5</td>\n",
              "      <td>6.93</td>\n",
              "      <td>3.23</td>\n",
              "      <td>106.0</td>\n",
              "      <td>12.1</td>\n",
              "      <td>69.0</td>\n",
              "    </tr>\n",
              "    <tr>\n",
              "      <th>1</th>\n",
              "      <td>0=Blood Donor</td>\n",
              "      <td>32</td>\n",
              "      <td>m</td>\n",
              "      <td>38.5</td>\n",
              "      <td>70.3</td>\n",
              "      <td>18.0</td>\n",
              "      <td>24.7</td>\n",
              "      <td>3.9</td>\n",
              "      <td>11.17</td>\n",
              "      <td>4.80</td>\n",
              "      <td>74.0</td>\n",
              "      <td>15.6</td>\n",
              "      <td>76.5</td>\n",
              "    </tr>\n",
              "    <tr>\n",
              "      <th>2</th>\n",
              "      <td>0=Blood Donor</td>\n",
              "      <td>32</td>\n",
              "      <td>m</td>\n",
              "      <td>46.9</td>\n",
              "      <td>74.7</td>\n",
              "      <td>36.2</td>\n",
              "      <td>52.6</td>\n",
              "      <td>6.1</td>\n",
              "      <td>8.84</td>\n",
              "      <td>5.20</td>\n",
              "      <td>86.0</td>\n",
              "      <td>33.2</td>\n",
              "      <td>79.3</td>\n",
              "    </tr>\n",
              "    <tr>\n",
              "      <th>3</th>\n",
              "      <td>0=Blood Donor</td>\n",
              "      <td>32</td>\n",
              "      <td>m</td>\n",
              "      <td>43.2</td>\n",
              "      <td>52.0</td>\n",
              "      <td>30.6</td>\n",
              "      <td>22.6</td>\n",
              "      <td>18.9</td>\n",
              "      <td>7.33</td>\n",
              "      <td>4.74</td>\n",
              "      <td>80.0</td>\n",
              "      <td>33.8</td>\n",
              "      <td>75.7</td>\n",
              "    </tr>\n",
              "    <tr>\n",
              "      <th>4</th>\n",
              "      <td>0=Blood Donor</td>\n",
              "      <td>32</td>\n",
              "      <td>m</td>\n",
              "      <td>39.2</td>\n",
              "      <td>74.1</td>\n",
              "      <td>32.6</td>\n",
              "      <td>24.8</td>\n",
              "      <td>9.6</td>\n",
              "      <td>9.15</td>\n",
              "      <td>4.32</td>\n",
              "      <td>76.0</td>\n",
              "      <td>29.9</td>\n",
              "      <td>68.7</td>\n",
              "    </tr>\n",
              "  </tbody>\n",
              "</table>\n",
              "</div>"
            ],
            "text/plain": [
              "        Category  Age Sex   ALB   ALP  ...    CHE  CHOL   CREA   GGT  PROT\n",
              "0  0=Blood Donor   32   m  38.5  52.5  ...   6.93  3.23  106.0  12.1  69.0\n",
              "1  0=Blood Donor   32   m  38.5  70.3  ...  11.17  4.80   74.0  15.6  76.5\n",
              "2  0=Blood Donor   32   m  46.9  74.7  ...   8.84  5.20   86.0  33.2  79.3\n",
              "3  0=Blood Donor   32   m  43.2  52.0  ...   7.33  4.74   80.0  33.8  75.7\n",
              "4  0=Blood Donor   32   m  39.2  74.1  ...   9.15  4.32   76.0  29.9  68.7\n",
              "\n",
              "[5 rows x 13 columns]"
            ]
          },
          "metadata": {
            "tags": []
          },
          "execution_count": 23
        }
      ]
    },
    {
      "cell_type": "code",
      "metadata": {
        "colab": {
          "base_uri": "https://localhost:8080/",
          "height": 206
        },
        "id": "3ulJFpT4i9cR",
        "outputId": "293e1440-adee-479a-f0cb-1247c2c7ff93"
      },
      "source": [
        "# Pre-procesamiento sobre columna Sex para discretizar variable de tipo String\n",
        "le = LabelEncoder()\n",
        "data['Sex'] = le.fit_transform(data['Sex'])\n",
        "\n",
        "# Imputacion por hot-deck sobre las columnas \n",
        "# data.fillna(method='ffill', inplace=True)\n",
        "\n",
        "from sklearn.impute import KNNImputer\n",
        "\n",
        "imputer = KNNImputer(n_neighbors=2, weights=\"uniform\")\n",
        "\n",
        "missing_cols = ['ALB', 'ALP', 'ALT', 'CHOL', 'PROT']\n",
        "\n",
        "for col in missing_cols:\n",
        "  data[col] = imputer.fit_transform(data[[col]])\n",
        "\n",
        "data.head()"
      ],
      "execution_count": null,
      "outputs": [
        {
          "output_type": "execute_result",
          "data": {
            "text/html": [
              "<div>\n",
              "<style scoped>\n",
              "    .dataframe tbody tr th:only-of-type {\n",
              "        vertical-align: middle;\n",
              "    }\n",
              "\n",
              "    .dataframe tbody tr th {\n",
              "        vertical-align: top;\n",
              "    }\n",
              "\n",
              "    .dataframe thead th {\n",
              "        text-align: right;\n",
              "    }\n",
              "</style>\n",
              "<table border=\"1\" class=\"dataframe\">\n",
              "  <thead>\n",
              "    <tr style=\"text-align: right;\">\n",
              "      <th></th>\n",
              "      <th>Category</th>\n",
              "      <th>Age</th>\n",
              "      <th>Sex</th>\n",
              "      <th>ALB</th>\n",
              "      <th>ALP</th>\n",
              "      <th>ALT</th>\n",
              "      <th>AST</th>\n",
              "      <th>BIL</th>\n",
              "      <th>CHE</th>\n",
              "      <th>CHOL</th>\n",
              "      <th>CREA</th>\n",
              "      <th>GGT</th>\n",
              "      <th>PROT</th>\n",
              "    </tr>\n",
              "  </thead>\n",
              "  <tbody>\n",
              "    <tr>\n",
              "      <th>0</th>\n",
              "      <td>0=Blood Donor</td>\n",
              "      <td>32</td>\n",
              "      <td>1</td>\n",
              "      <td>38.5</td>\n",
              "      <td>52.5</td>\n",
              "      <td>7.7</td>\n",
              "      <td>22.1</td>\n",
              "      <td>7.5</td>\n",
              "      <td>6.93</td>\n",
              "      <td>3.23</td>\n",
              "      <td>106.0</td>\n",
              "      <td>12.1</td>\n",
              "      <td>69.0</td>\n",
              "    </tr>\n",
              "    <tr>\n",
              "      <th>1</th>\n",
              "      <td>0=Blood Donor</td>\n",
              "      <td>32</td>\n",
              "      <td>1</td>\n",
              "      <td>38.5</td>\n",
              "      <td>70.3</td>\n",
              "      <td>18.0</td>\n",
              "      <td>24.7</td>\n",
              "      <td>3.9</td>\n",
              "      <td>11.17</td>\n",
              "      <td>4.80</td>\n",
              "      <td>74.0</td>\n",
              "      <td>15.6</td>\n",
              "      <td>76.5</td>\n",
              "    </tr>\n",
              "    <tr>\n",
              "      <th>2</th>\n",
              "      <td>0=Blood Donor</td>\n",
              "      <td>32</td>\n",
              "      <td>1</td>\n",
              "      <td>46.9</td>\n",
              "      <td>74.7</td>\n",
              "      <td>36.2</td>\n",
              "      <td>52.6</td>\n",
              "      <td>6.1</td>\n",
              "      <td>8.84</td>\n",
              "      <td>5.20</td>\n",
              "      <td>86.0</td>\n",
              "      <td>33.2</td>\n",
              "      <td>79.3</td>\n",
              "    </tr>\n",
              "    <tr>\n",
              "      <th>3</th>\n",
              "      <td>0=Blood Donor</td>\n",
              "      <td>32</td>\n",
              "      <td>1</td>\n",
              "      <td>43.2</td>\n",
              "      <td>52.0</td>\n",
              "      <td>30.6</td>\n",
              "      <td>22.6</td>\n",
              "      <td>18.9</td>\n",
              "      <td>7.33</td>\n",
              "      <td>4.74</td>\n",
              "      <td>80.0</td>\n",
              "      <td>33.8</td>\n",
              "      <td>75.7</td>\n",
              "    </tr>\n",
              "    <tr>\n",
              "      <th>4</th>\n",
              "      <td>0=Blood Donor</td>\n",
              "      <td>32</td>\n",
              "      <td>1</td>\n",
              "      <td>39.2</td>\n",
              "      <td>74.1</td>\n",
              "      <td>32.6</td>\n",
              "      <td>24.8</td>\n",
              "      <td>9.6</td>\n",
              "      <td>9.15</td>\n",
              "      <td>4.32</td>\n",
              "      <td>76.0</td>\n",
              "      <td>29.9</td>\n",
              "      <td>68.7</td>\n",
              "    </tr>\n",
              "  </tbody>\n",
              "</table>\n",
              "</div>"
            ],
            "text/plain": [
              "        Category  Age  Sex   ALB   ALP  ...    CHE  CHOL   CREA   GGT  PROT\n",
              "0  0=Blood Donor   32    1  38.5  52.5  ...   6.93  3.23  106.0  12.1  69.0\n",
              "1  0=Blood Donor   32    1  38.5  70.3  ...  11.17  4.80   74.0  15.6  76.5\n",
              "2  0=Blood Donor   32    1  46.9  74.7  ...   8.84  5.20   86.0  33.2  79.3\n",
              "3  0=Blood Donor   32    1  43.2  52.0  ...   7.33  4.74   80.0  33.8  75.7\n",
              "4  0=Blood Donor   32    1  39.2  74.1  ...   9.15  4.32   76.0  29.9  68.7\n",
              "\n",
              "[5 rows x 13 columns]"
            ]
          },
          "metadata": {
            "tags": []
          },
          "execution_count": 24
        }
      ]
    },
    {
      "cell_type": "code",
      "metadata": {
        "id": "a-cjt5UGg1jp",
        "colab": {
          "base_uri": "https://localhost:8080/"
        },
        "outputId": "cf900ef5-6849-4d7d-c1e7-463cededc8eb"
      },
      "source": [
        "# Importo numpy \n",
        "import numpy as np\n",
        "\n",
        "# Importo las metricas para testear el modelo\n",
        "from sklearn import metrics\n",
        "\n",
        "# Defino target\n",
        "target = data.pop('Category')\n",
        "target_name = target.name\n",
        "\n",
        "# Defino features\n",
        "features = data\n",
        "features_names = data.columns\n",
        "\n",
        "# Divido el dataset 80-20 como \n",
        "features_train, features_test, target_train, target_test = train_test_split(features, target, random_state=0, test_size=0.2)\n",
        "\n",
        "from sklearn import tree\n",
        "# Instancio el arbol por entropia\n",
        "t = tree.DecisionTreeClassifier(criterion='entropy')\n",
        "\n",
        "# Lo entreno\n",
        "t.fit(features_train, target_train)\n",
        "\n",
        "# Hago la prediccion\n",
        "prediccion = t.predict(features_test)\n",
        "\n",
        "# Convierto a array para recorrer\n",
        "target_test = np.asarray(target_test)\n",
        "\n",
        "# Muestro prediccion vs original\n",
        "header = '{:<4}{:<2}{:<25}{:<2}{:<25}{}'.format('#', '|', 'Predicción', '|', 'Original','|')\n",
        "print(header)\n",
        "print('='*58, end='|')\n",
        "\n",
        "sep = '|'\n",
        "\n",
        "for i in range(10):\n",
        "    print(f\"\\n{str(i).ljust(4, ' ')}{sep.ljust(2, ' ')}{prediccion[i].ljust(25, ' ')}{sep.ljust(2, ' ')}{target_test[i].ljust(25, ' ')}{sep}\\n\", end='-'*58+'|')\n",
        "\n",
        "\n",
        "# Veo qué tan acertado estuvo\n",
        "print(f'\\n\\nPrecisión del modelo: {metrics.accuracy_score(target_test, prediccion)}', end='\\n\\n')\n",
        "\n",
        "# Muestro un reporte de clasificación con diferentes métricas sobre cada feature \n",
        "print(f'Reporte de clasificación: \\n{metrics.classification_report(target_test, prediccion, target_names=[\"Donante\", \"Sospechoso donante\", \"Hepatitis\", \"Fibrosis\", \"Cirrosis\"])}')"
      ],
      "execution_count": 96,
      "outputs": [
        {
          "output_type": "stream",
          "text": [
            "#   | Predicción               | Original                 |\n",
            "==========================================================|\n",
            "0   | 0=Blood Donor            | 0=Blood Donor            |\n",
            "----------------------------------------------------------|\n",
            "1   | 0=Blood Donor            | 0=Blood Donor            |\n",
            "----------------------------------------------------------|\n",
            "2   | 0=Blood Donor            | 0=Blood Donor            |\n",
            "----------------------------------------------------------|\n",
            "3   | 0=Blood Donor            | 0=Blood Donor            |\n",
            "----------------------------------------------------------|\n",
            "4   | 2=Fibrosis               | 0=Blood Donor            |\n",
            "----------------------------------------------------------|\n",
            "5   | 3=Cirrhosis              | 1=Hepatitis              |\n",
            "----------------------------------------------------------|\n",
            "6   | 0=Blood Donor            | 0=Blood Donor            |\n",
            "----------------------------------------------------------|\n",
            "7   | 0=Blood Donor            | 0=Blood Donor            |\n",
            "----------------------------------------------------------|\n",
            "8   | 0=Blood Donor            | 0=Blood Donor            |\n",
            "----------------------------------------------------------|\n",
            "9   | 0s=suspect Blood Donor   | 0=Blood Donor            |\n",
            "----------------------------------------------------------|\n",
            "\n",
            "Precisión del modelo: 0.8780487804878049\n",
            "\n",
            "Reporte de clasificación: \n",
            "                    precision    recall  f1-score   support\n",
            "\n",
            "           Donante       0.95      0.97      0.96       108\n",
            "Sospechoso donante       0.00      0.00      0.00         2\n",
            "         Hepatitis       0.00      0.00      0.00         4\n",
            "          Fibrosis       0.00      0.00      0.00         2\n",
            "          Cirrosis       0.60      0.43      0.50         7\n",
            "\n",
            "          accuracy                           0.88       123\n",
            "         macro avg       0.31      0.28      0.29       123\n",
            "      weighted avg       0.87      0.88      0.87       123\n",
            "\n"
          ],
          "name": "stdout"
        },
        {
          "output_type": "stream",
          "text": [
            "/usr/local/lib/python3.6/dist-packages/sklearn/metrics/_classification.py:1272: UndefinedMetricWarning: Precision and F-score are ill-defined and being set to 0.0 in labels with no predicted samples. Use `zero_division` parameter to control this behavior.\n",
            "  _warn_prf(average, modifier, msg_start, len(result))\n"
          ],
          "name": "stderr"
        }
      ]
    },
    {
      "cell_type": "code",
      "metadata": {
        "id": "FkEAF4t3guhN"
      },
      "source": [
        ""
      ],
      "execution_count": null,
      "outputs": []
    },
    {
      "cell_type": "code",
      "metadata": {
        "id": "PfVltqdfd9i-",
        "colab": {
          "base_uri": "https://localhost:8080/",
          "height": 17
        },
        "outputId": "9ed0c09f-ba10-4e58-eab3-0e73e6ae2643"
      },
      "source": [
        "from io import StringIO \n",
        "import pydotplus \n",
        "from google.colab import files \n",
        "import graphviz\n",
        "\n",
        "# Graficamos el arbol\n",
        "tree_export = tree.export_graphviz(t, out_file=None, feature_names=features_names, class_names=[\"Donante\", \"Sospechoso donante\", \"Hepatitis\", \"Fibrosis\", \"Cirrosis\"], filled=True, rounded=True)\n",
        "\n",
        "graph = graphviz.Source(tree_export)\n",
        "graph\n",
        "\n",
        "dot_data = StringIO() \n",
        "\n",
        "tree.export_graphviz(t, out_file=dot_data, feature_names=features_names, class_names=[\"Donante\", \"Sospechoso donante\", \"Hepatitis\", \"Fibrosis\", \"Cirrosis\"], filled=True, rounded=True, special_characters=True) \n",
        "# Con el string del dot lo paso a un gráfico \n",
        "\n",
        "graph = pydotplus.graph_from_dot_data(dot_data.getvalue()) \n",
        "\n",
        "# Genero png y lo descargo \n",
        "graph.write_png('hcv_model.png') \n",
        "files.download('hcv_model.png') "
      ],
      "execution_count": null,
      "outputs": [
        {
          "output_type": "display_data",
          "data": {
            "application/javascript": [
              "\n",
              "    async function download(id, filename, size) {\n",
              "      if (!google.colab.kernel.accessAllowed) {\n",
              "        return;\n",
              "      }\n",
              "      const div = document.createElement('div');\n",
              "      const label = document.createElement('label');\n",
              "      label.textContent = `Downloading \"${filename}\": `;\n",
              "      div.appendChild(label);\n",
              "      const progress = document.createElement('progress');\n",
              "      progress.max = size;\n",
              "      div.appendChild(progress);\n",
              "      document.body.appendChild(div);\n",
              "\n",
              "      const buffers = [];\n",
              "      let downloaded = 0;\n",
              "\n",
              "      const channel = await google.colab.kernel.comms.open(id);\n",
              "      // Send a message to notify the kernel that we're ready.\n",
              "      channel.send({})\n",
              "\n",
              "      for await (const message of channel.messages) {\n",
              "        // Send a message to notify the kernel that we're ready.\n",
              "        channel.send({})\n",
              "        if (message.buffers) {\n",
              "          for (const buffer of message.buffers) {\n",
              "            buffers.push(buffer);\n",
              "            downloaded += buffer.byteLength;\n",
              "            progress.value = downloaded;\n",
              "          }\n",
              "        }\n",
              "      }\n",
              "      const blob = new Blob(buffers, {type: 'application/binary'});\n",
              "      const a = document.createElement('a');\n",
              "      a.href = window.URL.createObjectURL(blob);\n",
              "      a.download = filename;\n",
              "      div.appendChild(a);\n",
              "      a.click();\n",
              "      div.remove();\n",
              "    }\n",
              "  "
            ],
            "text/plain": [
              "<IPython.core.display.Javascript object>"
            ]
          },
          "metadata": {
            "tags": []
          }
        },
        {
          "output_type": "display_data",
          "data": {
            "application/javascript": [
              "download(\"download_9e522df3-e665-4d03-9831-05620bb128b7\", \"hcv_model.png\", 536279)"
            ],
            "text/plain": [
              "<IPython.core.display.Javascript object>"
            ]
          },
          "metadata": {
            "tags": []
          }
        }
      ]
    },
    {
      "cell_type": "code",
      "metadata": {
        "colab": {
          "base_uri": "https://localhost:8080/"
        },
        "id": "rCQWCLFErRO9",
        "outputId": "54f073b5-7482-4988-87be-700217ece72e"
      },
      "source": [
        "from sklearn import tree\n",
        "# Instancio el arbol por entropia\n",
        "t2 = tree.DecisionTreeClassifier(criterion='entropy', max_depth=4)\n",
        "\n",
        "# Lo entreno\n",
        "t2.fit(features_train, target_train)\n",
        "\n",
        "# Hago la prediccion\n",
        "prediccion2 = t2.predict(features_test)\n",
        "\n",
        "# Convierto a array para recorrer\n",
        "target_test = np.asarray(target_test)\n",
        "\n",
        "# Muestro prediccion vs original\n",
        "header = '{:<4}{:<2}{:<25}{:<2}{:<25}{}'.format('#', '|', 'Predicción', '|', 'Original','|')\n",
        "print(header)\n",
        "print('='*58, end='|')\n",
        "\n",
        "sep = '|'\n",
        "\n",
        "for i in range(10):\n",
        "    print(f\"\\n{str(i).ljust(4, ' ')}{sep.ljust(2, ' ')}{prediccion2[i].ljust(25, ' ')}{sep.ljust(2, ' ')}{target_test[i].ljust(25, ' ')}{sep}\\n\", end='-'*58+'|')\n",
        "\n",
        "# Veo qué tan acertado estuvo\n",
        "print(f'\\n\\nPrecisión del modelo: {metrics.accuracy_score(target_test, prediccion2)}', end='\\n\\n')\n",
        "\n",
        "# Muestro un reporte de clasificación con diferentes métricas sobre cada feature \n",
        "print(f'Reporte de clasificación: \\n{metrics.classification_report(target_test, prediccion2, target_names=[\"Donante\", \"Sospechoso donante\", \"Hepatitis\", \"Fibrosis\", \"Cirrosis\"])}')"
      ],
      "execution_count": 97,
      "outputs": [
        {
          "output_type": "stream",
          "text": [
            "#   | Predicción               | Original                 |\n",
            "==========================================================|\n",
            "0   | 0=Blood Donor            | 0=Blood Donor            |\n",
            "----------------------------------------------------------|\n",
            "1   | 0=Blood Donor            | 0=Blood Donor            |\n",
            "----------------------------------------------------------|\n",
            "2   | 0=Blood Donor            | 0=Blood Donor            |\n",
            "----------------------------------------------------------|\n",
            "3   | 0=Blood Donor            | 0=Blood Donor            |\n",
            "----------------------------------------------------------|\n",
            "4   | 0=Blood Donor            | 0=Blood Donor            |\n",
            "----------------------------------------------------------|\n",
            "5   | 3=Cirrhosis              | 1=Hepatitis              |\n",
            "----------------------------------------------------------|\n",
            "6   | 0=Blood Donor            | 0=Blood Donor            |\n",
            "----------------------------------------------------------|\n",
            "7   | 0=Blood Donor            | 0=Blood Donor            |\n",
            "----------------------------------------------------------|\n",
            "8   | 0=Blood Donor            | 0=Blood Donor            |\n",
            "----------------------------------------------------------|\n",
            "9   | 0s=suspect Blood Donor   | 0=Blood Donor            |\n",
            "----------------------------------------------------------|\n",
            "\n",
            "Precisión del modelo: 0.9024390243902439\n",
            "\n",
            "Reporte de clasificación: \n",
            "                    precision    recall  f1-score   support\n",
            "\n",
            "           Donante       0.96      0.98      0.97       108\n",
            "Sospechoso donante       0.33      0.50      0.40         2\n",
            "         Hepatitis       0.00      0.00      0.00         4\n",
            "          Fibrosis       0.20      0.50      0.29         2\n",
            "          Cirrosis       0.60      0.43      0.50         7\n",
            "\n",
            "          accuracy                           0.90       123\n",
            "         macro avg       0.42      0.48      0.43       123\n",
            "      weighted avg       0.89      0.90      0.89       123\n",
            "\n"
          ],
          "name": "stdout"
        },
        {
          "output_type": "stream",
          "text": [
            "/usr/local/lib/python3.6/dist-packages/sklearn/metrics/_classification.py:1272: UndefinedMetricWarning: Precision and F-score are ill-defined and being set to 0.0 in labels with no predicted samples. Use `zero_division` parameter to control this behavior.\n",
            "  _warn_prf(average, modifier, msg_start, len(result))\n"
          ],
          "name": "stderr"
        }
      ]
    },
    {
      "cell_type": "code",
      "metadata": {
        "colab": {
          "base_uri": "https://localhost:8080/"
        },
        "id": "cqk-moDSsEvj",
        "outputId": "29ad81f1-e54f-4493-e9e4-842fb6d68275"
      },
      "source": [
        "from io import StringIO \n",
        "import pydotplus \n",
        "from google.colab import files \n",
        "import graphviz\n",
        "\n",
        "# Graficamos el arbol\n",
        "tree_export = tree.export_graphviz(t2, out_file=None, feature_names=features_names, class_names=[\"Donante\", \"Sospechoso donante\", \"Hepatitis\", \"Fibrosis\", \"Cirrosis\"], filled=True, rounded=True)\n",
        "\n",
        "graph = graphviz.Source(tree_export)\n",
        "graph\n",
        "\n",
        "dot_data = StringIO() \n",
        "\n",
        "tree.export_graphviz(t2, out_file=dot_data, feature_names=features_names, class_names=[\"Donante\", \"Sospechoso donante\", \"Hepatitis\", \"Fibrosis\", \"Cirrosis\"], filled=True, rounded=True, special_characters=True) \n",
        "# Con el string del dot lo paso a un gráfico \n",
        "\n",
        "graph = pydotplus.graph_from_dot_data(dot_data.getvalue()) \n",
        "\n",
        "# Genero png y lo descargo \n",
        "graph.write_png('poda_hcv_model.png') \n",
        "files.download('poda_hcv_model.png') "
      ],
      "execution_count": 99,
      "outputs": [
        {
          "output_type": "execute_result",
          "data": {
            "text/plain": [
              "<pydotplus.graphviz.Dot at 0x7fedad85e3c8>"
            ]
          },
          "metadata": {
            "tags": []
          },
          "execution_count": 99
        }
      ]
    }
  ]
}
